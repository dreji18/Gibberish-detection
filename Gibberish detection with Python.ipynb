{
 "cells": [
  {
   "cell_type": "markdown",
   "id": "e6997a0f",
   "metadata": {},
   "source": [
    "## Gibberish words detection using Python Package\n",
    "\n",
    "Author: Deepak John Reji (https://www.linkedin.com/in/deepak-john-reji/)"
   ]
  },
  {
   "cell_type": "markdown",
   "id": "86a2f1be",
   "metadata": {},
   "source": [
    "### What are gibberish words?"
   ]
  },
  {
   "cell_type": "markdown",
   "id": "a860e3b8",
   "metadata": {},
   "source": [
    "Gibberish words are words that are made up and have no meaning. They are often used as placeholder text or for humorous effect. Gibberish words may be similar in appearance to real words, but they do not have any meaning in any language. They are often used to fill space in a document or to test the formatting of a document. Gibberish words may also be used in creative writing to convey a sense of nonsensical or surrealistic language."
   ]
  },
  {
   "cell_type": "code",
   "execution_count": 27,
   "id": "f154b02c",
   "metadata": {},
   "outputs": [
    {
     "data": {
      "text/plain": [
       "'South african miners return to work at anglo american platinum mine, ending 8-week strike. Retrieved from &hl=en&gl=us&pid=bl&srcid=ADGEEShzYlE-pg-suMyOAq6mUfqdmvU2OVONMg2AeEhKa_7yxJfgz-LgV_IWSYH6prhjnhnrEKOinAf_qrB0pvGZSBmMKeF4hKSdAwTAbDGSnlPJ0Wg4Our2fHx702hvjwkg5LKD5FlN&sig= AHIEtbS1qvmQYRs3N2aE1FQMBi7G3ZZfpQ EUROPEAN Centre of Employers and Enterprises (ECEE).'"
      ]
     },
     "execution_count": 27,
     "metadata": {},
     "output_type": "execute_result"
    }
   ],
   "source": [
    "text = \"South african miners return to work at anglo american platinum mine, ending 8-week strike. Retrieved from &hl=en&gl=us&pid=bl&srcid=ADGEEShzYlE-pg-suMyOAq6mUfqdmvU2OVONMg2AeEhKa_7yxJfgz-LgV_IWSYH6prhjnhnrEKOinAf_qrB0pvGZSBmMKeF4hKSdAwTAbDGSnlPJ0Wg4Our2fHx702hvjwkg5LKD5FlN&sig= AHIEtbS1qvmQYRs3N2aE1FQMBi7G3ZZfpQ EUROPEAN Centre of Employers and Enterprises (ECEE).\"\n",
    "text"
   ]
  },
  {
   "cell_type": "code",
   "execution_count": 28,
   "id": "10bf4578",
   "metadata": {},
   "outputs": [],
   "source": [
    "from gibberish_detector import detector\n",
    "Detector = detector.create_from_model('big.model')"
   ]
  },
  {
   "cell_type": "code",
   "execution_count": 29,
   "id": "249cc2cd",
   "metadata": {},
   "outputs": [
    {
     "data": {
      "text/plain": [
       "4.36903463366466"
      ]
     },
     "execution_count": 29,
     "metadata": {},
     "output_type": "execute_result"
    }
   ],
   "source": [
    "Detector.calculate_probability_of_being_gibberish(text)"
   ]
  },
  {
   "cell_type": "code",
   "execution_count": 30,
   "id": "d8fb2dff",
   "metadata": {},
   "outputs": [
    {
     "name": "stdout",
     "output_type": "stream",
     "text": [
      "True\n"
     ]
    }
   ],
   "source": [
    "print(Detector.is_gibberish(text))"
   ]
  },
  {
   "cell_type": "code",
   "execution_count": 31,
   "id": "d16a87ac",
   "metadata": {},
   "outputs": [],
   "source": [
    "def remove_gibberish(text):\n",
    "    text_list = text.split(\" \")\n",
    "    processed_list = []\n",
    "    for i in text_list:\n",
    "        if Detector.is_gibberish(i) == False:\n",
    "            processed_list.append(i)\n",
    "    \n",
    "    return ' '.join(processed_list)"
   ]
  },
  {
   "cell_type": "code",
   "execution_count": 32,
   "id": "f87833e3",
   "metadata": {},
   "outputs": [
    {
     "data": {
      "text/plain": [
       "'South african miners return to work at anglo american platinum mine, ending 8-week strike. Retrieved from &hl=en&gl=us&pid=bl&srcid=ADGEEShzYlE-pg-suMyOAq6mUfqdmvU2OVONMg2AeEhKa_7yxJfgz-LgV_IWSYH6prhjnhnrEKOinAf_qrB0pvGZSBmMKeF4hKSdAwTAbDGSnlPJ0Wg4Our2fHx702hvjwkg5LKD5FlN&sig= AHIEtbS1qvmQYRs3N2aE1FQMBi7G3ZZfpQ EUROPEAN Centre of Employers and Enterprises (ECEE).'"
      ]
     },
     "execution_count": 32,
     "metadata": {},
     "output_type": "execute_result"
    }
   ],
   "source": [
    "text"
   ]
  },
  {
   "cell_type": "code",
   "execution_count": 33,
   "id": "b264a910",
   "metadata": {},
   "outputs": [
    {
     "data": {
      "text/plain": [
       "'South african miners return to work at anglo american platinum mine, ending 8-week strike. Retrieved from Centre of Employers and Enterprises'"
      ]
     },
     "execution_count": 33,
     "metadata": {},
     "output_type": "execute_result"
    }
   ],
   "source": [
    "remove_gibberish(text)"
   ]
  },
  {
   "cell_type": "code",
   "execution_count": null,
   "id": "52559363",
   "metadata": {},
   "outputs": [],
   "source": []
  }
 ],
 "metadata": {
  "kernelspec": {
   "display_name": "Python 3",
   "language": "python",
   "name": "python3"
  },
  "language_info": {
   "codemirror_mode": {
    "name": "ipython",
    "version": 3
   },
   "file_extension": ".py",
   "mimetype": "text/x-python",
   "name": "python",
   "nbconvert_exporter": "python",
   "pygments_lexer": "ipython3",
   "version": "3.8.13"
  }
 },
 "nbformat": 4,
 "nbformat_minor": 5
}
